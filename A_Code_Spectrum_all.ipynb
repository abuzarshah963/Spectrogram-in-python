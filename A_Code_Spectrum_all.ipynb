{
 "cells": [
  {
   "cell_type": "code",
   "execution_count": null,
   "id": "bc9615b2-4a3b-4f00-ba78-2d2289f49869",
   "metadata": {},
   "outputs": [],
   "source": [
    "import os\n",
    "import scipy.io\n",
    "import matplotlib\n",
    "import matplotlib.pyplot as plt\n",
    "import numpy as np\n",
    "dir_name='../DJI_Inspire1Pro/'\n",
    "base_name = 'DJI_Inspire1Pro'\n",
    "key=1\n",
    "ind=str(key).zfill(4)\n",
    "f = scipy.io.loadmat(os.path.join(dir_name,base_name+'_'+ind+'.mat'))\n",
    "f.keys()\n",
    "x = f['data']\n",
    "x = x['Data']\n",
    "x[0]\n",
    "x = np.array(x[0])\n",
    "x.shape\n",
    "x=x[0].transpose()\n",
    "t = np.array(range(0, len(x[0])))\n",
    "\n",
    "x=x[0,3000000:5000000]\n",
    "\n",
    "s1 = np.empty([0]) # For samples\n",
    "sub1 = x\n",
    "s1 = np.append(s1, sub1)\n",
    "NFFT = 512\n",
    "#win = kaiser(NFFT,8) # 8 is the shpe parameter of the window\n",
    "\n",
    "samplingFrequency = 20e9\n",
    "noverlap = 50\n",
    "\n",
    "#plt.figure()\n",
    "#plt.figure(figsize=(5,5),dpi=100)\n",
    "#powerSpectrum, freqenciesFound, time, imageAxis = plt.specgram(s1, NFFT=NFFT, Fs=samplingFrequency, noverlap=noverlap, cmap = plt.cm.bone)\n",
    "#cnorm = matplotlib.colors.Normalize(vmin=0, vmax=len(s1))\n",
    "powerSpectrum, freqenciesFound, time, imageAxis = plt.specgram(s1, window=np.kaiser(256,0),  Fs=samplingFrequency)\n",
    "plt.pcolormesh(time,freqenciesFound,powerSpectrum )\n",
    "#plt.xlabel('Time')\n",
    "#plt.ylabel('Frequency')\n",
    "\n",
    "ax = plt.gca()\n",
    "ax.set_ylim([2e9, 3e9])\n",
    "plt.tick_params(axis='x',bottom=False, labelbottom=False)\n",
    "plt.tick_params(axis='y',left=False, labelleft=False)\n",
    "#ax.set_xlim([0, 1e-6])\n",
    "fig = plt.gcf()\n",
    "fig.set_size_inches(4, 4)\n",
    "fig.savefig('DJI_Inspire1Pro.png',dpi=200, bbox_inches='tight',pad_inches = 0)\n",
    "plt.show() "
   ]
  },
  {
   "cell_type": "code",
   "execution_count": null,
   "id": "3d347710-833e-4b68-b059-7e3afc24392b",
   "metadata": {},
   "outputs": [],
   "source": []
  }
 ],
 "metadata": {
  "kernelspec": {
   "display_name": "Python 3 (ipykernel)",
   "language": "python",
   "name": "python3"
  },
  "language_info": {
   "codemirror_mode": {
    "name": "ipython",
    "version": 3
   },
   "file_extension": ".py",
   "mimetype": "text/x-python",
   "name": "python",
   "nbconvert_exporter": "python",
   "pygments_lexer": "ipython3",
   "version": "3.9.1"
  }
 },
 "nbformat": 4,
 "nbformat_minor": 5
}
